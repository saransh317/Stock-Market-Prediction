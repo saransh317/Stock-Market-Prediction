{
  "nbformat": 4,
  "nbformat_minor": 0,
  "metadata": {
    "colab": {
      "name": "Reliance Future Prediction",
      "provenance": [],
      "authorship_tag": "ABX9TyNkMNnuhth2a+vbAoITpCU7",
      "include_colab_link": true
    },
    "kernelspec": {
      "name": "python3",
      "display_name": "Python 3"
    }
  },
  "cells": [
    {
      "cell_type": "markdown",
      "metadata": {
        "id": "view-in-github",
        "colab_type": "text"
      },
      "source": [
        "<a href=\"https://colab.research.google.com/github/saransh317/Stock-Market-Prediction/blob/main/Reliance_Future_Prediction.ipynb\" target=\"_parent\"><img src=\"https://colab.research.google.com/assets/colab-badge.svg\" alt=\"Open In Colab\"/></a>"
      ]
    },
    {
      "cell_type": "code",
      "metadata": {
        "id": "oSoz4q811wP9"
      },
      "source": [
        "import numpy as np\r\n",
        "import pandas as pd\r\n",
        "import matplotlib.pyplot as plt\r\n",
        "from sklearn.preprocessing import MinMaxScaler\r\n",
        "from tensorflow.keras.models import Sequential\r\n",
        "from tensorflow.keras.layers import Dense, LSTM, Dropout, GRU, Bidirectional\r\n",
        "from tensorflow.keras.optimizers import SGD\r\n",
        "import math\r\n",
        "from sklearn.metrics import mean_squared_error"
      ],
      "execution_count": 1,
      "outputs": []
    },
    {
      "cell_type": "code",
      "metadata": {
        "id": "Ta6wnIwZ10i8"
      },
      "source": [
        "def plot_predictions(test, predicted):\r\n",
        "  plt.plot(test, color='red', label='Real Reliance Stock Price')\r\n",
        "  plt.plot(predicted, color='blue', label='Predicted Reliance Stock Price')\r\n",
        "  plt.title(\"Stock Price Prediction\")\r\n",
        "  plt.xlabel('Time')\r\n",
        "  plt.ylabel('Stock Price')\r\n",
        "  plt.legend()\r\n",
        "  plt.show()"
      ],
      "execution_count": 2,
      "outputs": []
    },
    {
      "cell_type": "code",
      "metadata": {
        "colab": {
          "base_uri": "https://localhost:8080/",
          "height": 233
        },
        "id": "SJd_pUr0191L",
        "outputId": "f30ce876-9d05-4839-b577-293b0eb36bc8"
      },
      "source": [
        "dataset = pd.read_csv('/content/RELIANCE.NS.csv', index_col='Date',\r\n",
        "                      parse_dates=['Date'])\r\n",
        "dataset.tail(5)"
      ],
      "execution_count": 3,
      "outputs": [
        {
          "output_type": "execute_result",
          "data": {
            "text/html": [
              "<div>\n",
              "<style scoped>\n",
              "    .dataframe tbody tr th:only-of-type {\n",
              "        vertical-align: middle;\n",
              "    }\n",
              "\n",
              "    .dataframe tbody tr th {\n",
              "        vertical-align: top;\n",
              "    }\n",
              "\n",
              "    .dataframe thead th {\n",
              "        text-align: right;\n",
              "    }\n",
              "</style>\n",
              "<table border=\"1\" class=\"dataframe\">\n",
              "  <thead>\n",
              "    <tr style=\"text-align: right;\">\n",
              "      <th></th>\n",
              "      <th>Open</th>\n",
              "      <th>High</th>\n",
              "      <th>Low</th>\n",
              "      <th>Close</th>\n",
              "      <th>Adj Close</th>\n",
              "      <th>Volume</th>\n",
              "    </tr>\n",
              "    <tr>\n",
              "      <th>Date</th>\n",
              "      <th></th>\n",
              "      <th></th>\n",
              "      <th></th>\n",
              "      <th></th>\n",
              "      <th></th>\n",
              "      <th></th>\n",
              "    </tr>\n",
              "  </thead>\n",
              "  <tbody>\n",
              "    <tr>\n",
              "      <th>2020-12-07</th>\n",
              "      <td>1940.599976</td>\n",
              "      <td>1965.000000</td>\n",
              "      <td>1940.599976</td>\n",
              "      <td>1958.199951</td>\n",
              "      <td>1958.199951</td>\n",
              "      <td>8418767.0</td>\n",
              "    </tr>\n",
              "    <tr>\n",
              "      <th>2020-12-08</th>\n",
              "      <td>1961.150024</td>\n",
              "      <td>2014.250000</td>\n",
              "      <td>1950.000000</td>\n",
              "      <td>1993.750000</td>\n",
              "      <td>1993.750000</td>\n",
              "      <td>20030506.0</td>\n",
              "    </tr>\n",
              "    <tr>\n",
              "      <th>2020-12-09</th>\n",
              "      <td>2009.949951</td>\n",
              "      <td>2033.800049</td>\n",
              "      <td>1999.250000</td>\n",
              "      <td>2026.949951</td>\n",
              "      <td>2026.949951</td>\n",
              "      <td>13464375.0</td>\n",
              "    </tr>\n",
              "    <tr>\n",
              "      <th>2020-12-10</th>\n",
              "      <td>2021.599976</td>\n",
              "      <td>2028.500000</td>\n",
              "      <td>2001.000000</td>\n",
              "      <td>2007.000000</td>\n",
              "      <td>2007.000000</td>\n",
              "      <td>7414229.0</td>\n",
              "    </tr>\n",
              "    <tr>\n",
              "      <th>2020-12-11</th>\n",
              "      <td>2013.000000</td>\n",
              "      <td>2038.000000</td>\n",
              "      <td>1974.250000</td>\n",
              "      <td>2005.800049</td>\n",
              "      <td>2005.800049</td>\n",
              "      <td>12434745.0</td>\n",
              "    </tr>\n",
              "  </tbody>\n",
              "</table>\n",
              "</div>"
            ],
            "text/plain": [
              "                   Open         High  ...    Adj Close      Volume\n",
              "Date                                  ...                         \n",
              "2020-12-07  1940.599976  1965.000000  ...  1958.199951   8418767.0\n",
              "2020-12-08  1961.150024  2014.250000  ...  1993.750000  20030506.0\n",
              "2020-12-09  2009.949951  2033.800049  ...  2026.949951  13464375.0\n",
              "2020-12-10  2021.599976  2028.500000  ...  2007.000000   7414229.0\n",
              "2020-12-11  2013.000000  2038.000000  ...  2005.800049  12434745.0\n",
              "\n",
              "[5 rows x 6 columns]"
            ]
          },
          "metadata": {
            "tags": []
          },
          "execution_count": 3
        }
      ]
    },
    {
      "cell_type": "code",
      "metadata": {
        "colab": {
          "base_uri": "https://localhost:8080/"
        },
        "id": "LXQjgSwl1_1M",
        "outputId": "50417515-725b-4d2f-8efc-ec5ebffc16d6"
      },
      "source": [
        "print(dataset.shape)\r\n",
        "dataset.dropna(inplace=True)\r\n",
        "dataset.shape"
      ],
      "execution_count": 4,
      "outputs": [
        {
          "output_type": "stream",
          "text": [
            "(6291, 6)\n"
          ],
          "name": "stdout"
        },
        {
          "output_type": "execute_result",
          "data": {
            "text/plain": [
              "(6164, 6)"
            ]
          },
          "metadata": {
            "tags": []
          },
          "execution_count": 4
        }
      ]
    },
    {
      "cell_type": "code",
      "metadata": {
        "colab": {
          "base_uri": "https://localhost:8080/"
        },
        "id": "bODwzxOz2EIS",
        "outputId": "1d54bd08-79b7-4870-a8e2-73e7e01251a1"
      },
      "source": [
        "training_set = dataset[:'2020-12-11'].iloc[:,1:2].values\r\n",
        "training_set.shape"
      ],
      "execution_count": 5,
      "outputs": [
        {
          "output_type": "execute_result",
          "data": {
            "text/plain": [
              "(6164, 1)"
            ]
          },
          "metadata": {
            "tags": []
          },
          "execution_count": 5
        }
      ]
    },
    {
      "cell_type": "code",
      "metadata": {
        "id": "lAOCvf0x6W7Z"
      },
      "source": [
        "from sklearn.preprocessing import MinMaxScaler\r\n",
        "sc = MinMaxScaler(feature_range = (0, 1))\r\n",
        "training_set_scaled = sc.fit_transform(training_set)"
      ],
      "execution_count": 8,
      "outputs": []
    },
    {
      "cell_type": "code",
      "metadata": {
        "colab": {
          "base_uri": "https://localhost:8080/"
        },
        "id": "QmXWIkh76p0a",
        "outputId": "feac93a2-1c5f-424a-ace0-551be4641150"
      },
      "source": [
        "# Since LSTMs store long term memory state, we create a data structure with 60 timesteps and 1 output\r\n",
        "# So for each element of training set, we have 60 previous training set elements\r\n",
        "X_train = []\r\n",
        "y_train = []\r\n",
        "training_set_scaled.shape"
      ],
      "execution_count": 9,
      "outputs": [
        {
          "output_type": "execute_result",
          "data": {
            "text/plain": [
              "(6164, 1)"
            ]
          },
          "metadata": {
            "tags": []
          },
          "execution_count": 9
        }
      ]
    },
    {
      "cell_type": "code",
      "metadata": {
        "id": "Ksfe0X6L7Ltz"
      },
      "source": [
        "for i in range(60,5927):\r\n",
        "  X_train.append(training_set_scaled[i-60:i,0])\r\n",
        "  y_train.append(training_set_scaled[i,0])\r\n",
        "X_train, y_train = np.array(X_train), np.array(y_train)"
      ],
      "execution_count": 10,
      "outputs": []
    },
    {
      "cell_type": "code",
      "metadata": {
        "id": "UvAeZWKr7PBq"
      },
      "source": [
        "X_train = np.reshape(X_train, (X_train.shape[0],X_train.shape[1],1))"
      ],
      "execution_count": 11,
      "outputs": []
    },
    {
      "cell_type": "code",
      "metadata": {
        "id": "KtjeTpXO7Q_h"
      },
      "source": [
        "#RNN Architecture\r\n",
        "model = Sequential()\r\n",
        "\r\n",
        "model.add(LSTM(units=50, return_sequences=True, input_shape=(X_train.shape[1],1)))\r\n",
        "model.add(Dropout(0.2))\r\n",
        "\r\n",
        "model.add(LSTM(units = 50, return_sequences=True))\r\n",
        "model.add(Dropout(0.2))\r\n",
        "\r\n",
        "model.add(LSTM(units = 50, return_sequences=True))\r\n",
        "model.add(Dropout(0.2))\r\n",
        "\r\n",
        "model.add(LSTM(units = 50))\r\n",
        "model.add(Dropout(0.2))\r\n",
        "\r\n",
        "model.add(Dense(units=1))"
      ],
      "execution_count": 12,
      "outputs": []
    },
    {
      "cell_type": "code",
      "metadata": {
        "id": "hi2L_Ad-7TR6"
      },
      "source": [
        "model.compile(optimizer='adam', loss='mean_squared_error')"
      ],
      "execution_count": 13,
      "outputs": []
    },
    {
      "cell_type": "code",
      "metadata": {
        "colab": {
          "base_uri": "https://localhost:8080/"
        },
        "id": "C9Jf97Oi7V08",
        "outputId": "bac189a8-b4f0-4614-9d18-620e15b1cc99"
      },
      "source": [
        "model.fit(X_train, y_train, epochs=20, batch_size=128)"
      ],
      "execution_count": 14,
      "outputs": [
        {
          "output_type": "stream",
          "text": [
            "Epoch 1/20\n",
            "46/46 [==============================] - 10s 207ms/step - loss: 0.0050\n",
            "Epoch 2/20\n",
            "46/46 [==============================] - 10s 207ms/step - loss: 6.3257e-04\n",
            "Epoch 3/20\n",
            "46/46 [==============================] - 9s 206ms/step - loss: 5.4477e-04\n",
            "Epoch 4/20\n",
            "46/46 [==============================] - 10s 207ms/step - loss: 5.1887e-04\n",
            "Epoch 5/20\n",
            "46/46 [==============================] - 10s 207ms/step - loss: 4.9967e-04\n",
            "Epoch 6/20\n",
            "46/46 [==============================] - 10s 207ms/step - loss: 4.8648e-04\n",
            "Epoch 7/20\n",
            "46/46 [==============================] - 10s 208ms/step - loss: 4.6941e-04\n",
            "Epoch 8/20\n",
            "46/46 [==============================] - 10s 208ms/step - loss: 4.5899e-04\n",
            "Epoch 9/20\n",
            "46/46 [==============================] - 10s 210ms/step - loss: 4.3202e-04\n",
            "Epoch 10/20\n",
            "46/46 [==============================] - 10s 209ms/step - loss: 4.3548e-04\n",
            "Epoch 11/20\n",
            "46/46 [==============================] - 10s 210ms/step - loss: 4.1712e-04\n",
            "Epoch 12/20\n",
            "46/46 [==============================] - 10s 207ms/step - loss: 3.8842e-04\n",
            "Epoch 13/20\n",
            "46/46 [==============================] - 10s 209ms/step - loss: 3.6997e-04\n",
            "Epoch 14/20\n",
            "46/46 [==============================] - 10s 208ms/step - loss: 3.9013e-04\n",
            "Epoch 15/20\n",
            "46/46 [==============================] - 10s 210ms/step - loss: 3.7654e-04\n",
            "Epoch 16/20\n",
            "46/46 [==============================] - 10s 209ms/step - loss: 3.4512e-04\n",
            "Epoch 17/20\n",
            "46/46 [==============================] - 10s 213ms/step - loss: 3.8962e-04\n",
            "Epoch 18/20\n",
            "46/46 [==============================] - 10s 209ms/step - loss: 3.9617e-04\n",
            "Epoch 19/20\n",
            "46/46 [==============================] - 10s 210ms/step - loss: 3.4951e-04\n",
            "Epoch 20/20\n",
            "46/46 [==============================] - 10s 209ms/step - loss: 3.4180e-04\n"
          ],
          "name": "stdout"
        },
        {
          "output_type": "execute_result",
          "data": {
            "text/plain": [
              "<tensorflow.python.keras.callbacks.History at 0x7f3f50e9f7b8>"
            ]
          },
          "metadata": {
            "tags": []
          },
          "execution_count": 14
        }
      ]
    },
    {
      "cell_type": "code",
      "metadata": {
        "colab": {
          "base_uri": "https://localhost:8080/"
        },
        "id": "W5Obm2BX7Ykt",
        "outputId": "10cfffa7-824c-4a3d-c2c9-46a6d6c27ad9"
      },
      "source": [
        "dataset_total = pd.concat((dataset[\"High\"][:'2019'], dataset['High']['2019':]), axis=0)\r\n",
        "input = dataset_total[len(dataset_total) - 90:].values\r\n",
        "input = input.reshape(-1,1)\r\n",
        "inputs = sc.transform(input)\r\n",
        "\r\n",
        "inputs.shape"
      ],
      "execution_count": 20,
      "outputs": [
        {
          "output_type": "execute_result",
          "data": {
            "text/plain": [
              "(90, 1)"
            ]
          },
          "metadata": {
            "tags": []
          },
          "execution_count": 20
        }
      ]
    },
    {
      "cell_type": "code",
      "metadata": {
        "id": "ab4c6Om_8vKi"
      },
      "source": [
        "X_test = []\r\n",
        "for i in range(60,90):\r\n",
        "    X_test.append(inputs[i-60:i,0])"
      ],
      "execution_count": 25,
      "outputs": []
    },
    {
      "cell_type": "code",
      "metadata": {
        "id": "OO9rOIMS7teD"
      },
      "source": [
        "X_test = np.array(X_test)\r\n",
        "X_test = np.reshape(X_test, (X_test.shape[0],X_test.shape[1],1))\r\n",
        "\r\n",
        "predicted_stock_price = model.predict(X_test)\r\n",
        "predicted_stock_price = sc.inverse_transform(predicted_stock_price)"
      ],
      "execution_count": 26,
      "outputs": []
    },
    {
      "cell_type": "code",
      "metadata": {
        "id": "ECjdpVOJ-Fov"
      },
      "source": [
        "data = dataset[\"High\"]['2020-08-01':'2020-12-11'].to_numpy()"
      ],
      "execution_count": 35,
      "outputs": []
    },
    {
      "cell_type": "code",
      "metadata": {
        "colab": {
          "base_uri": "https://localhost:8080/",
          "height": 281
        },
        "id": "-KU8vnLo8ggN",
        "outputId": "c86869b1-c027-40a2-8fb0-80ee7c5309b8"
      },
      "source": [
        "a = np.append(data,predicted_stock_price)\r\n",
        "p = pd.DataFrame(a)\r\n",
        "p[0][:91].plot(figsize=(16,4),legend=True)\r\n",
        "p[0][90:].plot(figsize=(16,4),legend=True)\r\n",
        "plt.legend(['Past Stock Price','Future'])\r\n",
        "plt.title(\"Reliance stock price Prediction as on Dec 14'20\")\r\n",
        "plt.show()"
      ],
      "execution_count": 61,
      "outputs": [
        {
          "output_type": "display_data",
          "data": {
            "image/png": "[encoded data removed]",
            "text/plain": [
              "<Figure size 1152x288 with 1 Axes>"
            ]
          },
          "metadata": {
            "tags": [],
            "needs_background": "light"
          }
        }
      ]
    },
    {
      "cell_type": "code",
      "metadata": {
        "colab": {
          "base_uri": "https://localhost:8080/"
        },
        "id": "_gckY_Tf9K1H",
        "outputId": "6a8b9f99-1cbb-48cc-b60f-d45f1d012174"
      },
      "source": [
        "max(p[0][-30:])"
      ],
      "execution_count": 62,
      "outputs": [
        {
          "output_type": "execute_result",
          "data": {
            "text/plain": [
              "2062.077880859375"
            ]
          },
          "metadata": {
            "tags": []
          },
          "execution_count": 62
        }
      ]
    },
    {
      "cell_type": "code",
      "metadata": {
        "colab": {
          "base_uri": "https://localhost:8080/"
        },
        "id": "aHB1i1O-BTUO",
        "outputId": "eb17947a-986c-4b79-f231-39bdb3230798"
      },
      "source": [
        "predictions = p[0][-31:]\r\n",
        "predictions"
      ],
      "execution_count": 63,
      "outputs": [
        {
          "output_type": "execute_result",
          "data": {
            "text/plain": [
              "91     2038.000000\n",
              "92     2062.077881\n",
              "93     2048.927246\n",
              "94     2034.453247\n",
              "95     2019.126099\n",
              "96     2002.718628\n",
              "97     1985.179077\n",
              "98     1966.877808\n",
              "99     1948.857422\n",
              "100    1932.365845\n",
              "101    1918.546753\n",
              "102    1908.179321\n",
              "103    1901.056519\n",
              "104    1896.764404\n",
              "105    1895.065918\n",
              "106    1895.197876\n",
              "107    1896.381470\n",
              "108    1897.797607\n",
              "109    1898.734985\n",
              "110    1898.758301\n",
              "111    1897.809326\n",
              "112    1895.855591\n",
              "113    1892.918457\n",
              "114    1889.175415\n",
              "115    1884.849365\n",
              "116    1880.305664\n",
              "117    1875.822266\n",
              "118    1871.584473\n",
              "119    1868.017456\n",
              "120    1865.595947\n",
              "121    1864.601196\n",
              "Name: 0, dtype: float64"
            ]
          },
          "metadata": {
            "tags": []
          },
          "execution_count": 63
        }
      ]
    },
    {
      "cell_type": "code",
      "metadata": {
        "id": "hMLFfE7Wjkpd"
      },
      "source": [
        "np.savetxt(fname=\"reliance-fall.csv\", delimiter=\",\", X=predictions)"
      ],
      "execution_count": 64,
      "outputs": []
    },
    {
      "cell_type": "code",
      "metadata": {
        "id": "xaoc-PYZkysG"
      },
      "source": [
        ""
      ],
      "execution_count": null,
      "outputs": []
    }
  ]
}