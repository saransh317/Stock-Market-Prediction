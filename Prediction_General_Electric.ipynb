{
  "nbformat": 4,
  "nbformat_minor": 0,
  "metadata": {
    "colab": {
      "name": "Stock Market Prediction",
      "provenance": [],
      "authorship_tag": "ABX9TyMbID6S0ZpRtM2zianDcckG",
      "include_colab_link": true
    },
    "kernelspec": {
      "name": "python3",
      "display_name": "Python 3"
    }
  },
  "cells": [
    {
      "cell_type": "markdown",
      "metadata": {
        "id": "view-in-github",
        "colab_type": "text"
      },
      "source": [
        "<a href=\"https://colab.research.google.com/github/saransh317/Stock-Market-Prediction/blob/main/Prediction_General_Electric.ipynb\" target=\"_parent\"><img src=\"https://colab.research.google.com/assets/colab-badge.svg\" alt=\"Open In Colab\"/></a>"
      ]
    },
    {
      "cell_type": "code",
      "metadata": {
        "id": "SWwRufXV7dp1"
      },
      "source": [
        "import numpy as np\r\n",
        "import pandas as pd\r\n",
        "import matplotlib.pyplot as plt\r\n",
        "from sklearn.preprocessing import MinMaxScaler\r\n",
        "from tensorflow.keras.models import Sequential\r\n",
        "from tensorflow.keras.layers import Dense, LSTM, Dropout, GRU, Bidirectional\r\n",
        "from tensorflow.keras.optimizers import SGD\r\n",
        "import math\r\n",
        "from sklearn.metrics import mean_squared_error"
      ],
      "execution_count": 1,
      "outputs": []
    },
    {
      "cell_type": "markdown",
      "metadata": {
        "id": "aBP5E-ttWxQb"
      },
      "source": [
        "LSTM"
      ]
    },
    {
      "cell_type": "code",
      "metadata": {
        "id": "6C73sYEN8sGm"
      },
      "source": [
        "def plot_predictions(test, predicted):\r\n",
        "  plt.plot(test, color='red', label='Real General Electric Stock Price')\r\n",
        "  plt.plot(predicted, color='blue', label='Predicted General Electric Stock Price')\r\n",
        "  plt.title(\"Stock Price Prediction\")\r\n",
        "  plt.xlabel('Time')\r\n",
        "  plt.ylabel('Stock Price')\r\n",
        "  plt.legend()\r\n",
        "  plt.show()"
      ],
      "execution_count": 2,
      "outputs": []
    },
    {
      "cell_type": "code",
      "metadata": {
        "id": "Hh1SgS2J9dKQ"
      },
      "source": [
        "def return_rmse(test, predicted):\r\n",
        "  rmse = math.sqrt(mean_squared_error(test, predicted))\r\n",
        "  print(\"Root Mean Squared Error is{}\".format(rmse))"
      ],
      "execution_count": 3,
      "outputs": []
    },
    {
      "cell_type": "code",
      "metadata": {
        "colab": {
          "base_uri": "https://localhost:8080/",
          "height": 233
        },
        "id": "wDlw5wUc9uNv",
        "outputId": "030f494a-a9e0-49ab-e115-ba7aff772abc"
      },
      "source": [
        "dataset = pd.read_csv('/content/GE_2006-01-01_to_2018-01-01.csv', index_col='Date',\r\n",
        "                      parse_dates=['Date'])\r\n",
        "dataset.head()"
      ],
      "execution_count": 4,
      "outputs": [
        {
          "output_type": "execute_result",
          "data": {
            "text/html": [
              "<div>\n",
              "<style scoped>\n",
              "    .dataframe tbody tr th:only-of-type {\n",
              "        vertical-align: middle;\n",
              "    }\n",
              "\n",
              "    .dataframe tbody tr th {\n",
              "        vertical-align: top;\n",
              "    }\n",
              "\n",
              "    .dataframe thead th {\n",
              "        text-align: right;\n",
              "    }\n",
              "</style>\n",
              "<table border=\"1\" class=\"dataframe\">\n",
              "  <thead>\n",
              "    <tr style=\"text-align: right;\">\n",
              "      <th></th>\n",
              "      <th>Open</th>\n",
              "      <th>High</th>\n",
              "      <th>Low</th>\n",
              "      <th>Close</th>\n",
              "      <th>Volume</th>\n",
              "      <th>Name</th>\n",
              "    </tr>\n",
              "    <tr>\n",
              "      <th>Date</th>\n",
              "      <th></th>\n",
              "      <th></th>\n",
              "      <th></th>\n",
              "      <th></th>\n",
              "      <th></th>\n",
              "      <th></th>\n",
              "    </tr>\n",
              "  </thead>\n",
              "  <tbody>\n",
              "    <tr>\n",
              "      <th>2006-01-03</th>\n",
              "      <td>35.10</td>\n",
              "      <td>35.40</td>\n",
              "      <td>34.80</td>\n",
              "      <td>35.37</td>\n",
              "      <td>33221400</td>\n",
              "      <td>GE</td>\n",
              "    </tr>\n",
              "    <tr>\n",
              "      <th>2006-01-04</th>\n",
              "      <td>35.35</td>\n",
              "      <td>35.40</td>\n",
              "      <td>35.10</td>\n",
              "      <td>35.32</td>\n",
              "      <td>24017300</td>\n",
              "      <td>GE</td>\n",
              "    </tr>\n",
              "    <tr>\n",
              "      <th>2006-01-05</th>\n",
              "      <td>35.27</td>\n",
              "      <td>35.35</td>\n",
              "      <td>35.10</td>\n",
              "      <td>35.23</td>\n",
              "      <td>18860400</td>\n",
              "      <td>GE</td>\n",
              "    </tr>\n",
              "    <tr>\n",
              "      <th>2006-01-06</th>\n",
              "      <td>35.38</td>\n",
              "      <td>35.53</td>\n",
              "      <td>35.19</td>\n",
              "      <td>35.47</td>\n",
              "      <td>22085300</td>\n",
              "      <td>GE</td>\n",
              "    </tr>\n",
              "    <tr>\n",
              "      <th>2006-01-09</th>\n",
              "      <td>35.40</td>\n",
              "      <td>35.43</td>\n",
              "      <td>35.24</td>\n",
              "      <td>35.38</td>\n",
              "      <td>20716900</td>\n",
              "      <td>GE</td>\n",
              "    </tr>\n",
              "  </tbody>\n",
              "</table>\n",
              "</div>"
            ],
            "text/plain": [
              "             Open   High    Low  Close    Volume Name\n",
              "Date                                                 \n",
              "2006-01-03  35.10  35.40  34.80  35.37  33221400   GE\n",
              "2006-01-04  35.35  35.40  35.10  35.32  24017300   GE\n",
              "2006-01-05  35.27  35.35  35.10  35.23  18860400   GE\n",
              "2006-01-06  35.38  35.53  35.19  35.47  22085300   GE\n",
              "2006-01-09  35.40  35.43  35.24  35.38  20716900   GE"
            ]
          },
          "metadata": {
            "tags": []
          },
          "execution_count": 4
        }
      ]
    },
    {
      "cell_type": "code",
      "metadata": {
        "id": "D1LJPmqy-A6w"
      },
      "source": [
        "training_set = dataset[:'2016'].iloc[:,1:2].values\r\n",
        "test_set = dataset['2017':].iloc[:,1:2].values"
      ],
      "execution_count": 5,
      "outputs": []
    },
    {
      "cell_type": "code",
      "metadata": {
        "colab": {
          "base_uri": "https://localhost:8080/",
          "height": 265
        },
        "id": "bZFWt3aw-b8N",
        "outputId": "f8932ce0-826d-450d-a1b3-112971f7ee73"
      },
      "source": [
        "dataset[\"High\"][:'2016'].plot(figsize=(16,4),legend=True)\r\n",
        "dataset[\"High\"]['2017':].plot(figsize=(16,4),legend=True)\r\n",
        "plt.legend(['Training set (Before 2017)','Test set (2017 and beyond)'])\r\n",
        "plt.title('Apple stock price')\r\n",
        "plt.show()"
      ],
      "execution_count": 6,
      "outputs": [
        {
          "output_type": "display_data",
          "data": {
            "image/png": "[encoded data removed]",
            "text/plain": [
              "<Figure size 1152x288 with 1 Axes>"
            ]
          },
          "metadata": {
            "tags": [],
            "needs_background": "light"
          }
        }
      ]
    },
    {
      "cell_type": "code",
      "metadata": {
        "id": "jR1noqvU-d7D"
      },
      "source": [
        "sc = MinMaxScaler(feature_range=(0,1))\r\n",
        "training_set_scaled = sc.fit_transform(training_set)"
      ],
      "execution_count": 7,
      "outputs": []
    },
    {
      "cell_type": "code",
      "metadata": {
        "colab": {
          "base_uri": "https://localhost:8080/"
        },
        "id": "qDCtkai1_JZ8",
        "outputId": "6026ba65-b9a6-4602-fb22-6080619d1933"
      },
      "source": [
        "# Since LSTMs store long term memory state, we create a data structure with 60 timesteps and 1 output\r\n",
        "# So for each element of training set, we have 60 previous training set elements\r\n",
        "X_train = []\r\n",
        "y_train = []\r\n",
        "training_set_scaled.shape"
      ],
      "execution_count": 8,
      "outputs": [
        {
          "output_type": "execute_result",
          "data": {
            "text/plain": [
              "(2769, 1)"
            ]
          },
          "metadata": {
            "tags": []
          },
          "execution_count": 8
        }
      ]
    },
    {
      "cell_type": "code",
      "metadata": {
        "id": "rPnFEKyi_Z3T"
      },
      "source": [
        "for i in range(60,2768):\r\n",
        "  X_train.append(training_set_scaled[i-60:i,0])\r\n",
        "  y_train.append(training_set_scaled[i,0])\r\n",
        "X_train, y_train = np.array(X_train), np.array(y_train)"
      ],
      "execution_count": 9,
      "outputs": []
    },
    {
      "cell_type": "code",
      "metadata": {
        "id": "OM7NunWM_xLH"
      },
      "source": [
        "# Tautology Reshaping X_train for efficient modelling\r\n",
        "X_train = np.reshape(X_train, (X_train.shape[0],X_train.shape[1],1))"
      ],
      "execution_count": 10,
      "outputs": []
    },
    {
      "cell_type": "code",
      "metadata": {
        "id": "PLp2VxYdABvV"
      },
      "source": [
        "#RNN Architecture\r\n",
        "model = Sequential()\r\n",
        "\r\n",
        "model.add(LSTM(units=50, return_sequences=True, input_shape=(X_train.shape[1],1)))\r\n",
        "model.add(Dropout(0.2))\r\n",
        "\r\n",
        "model.add(LSTM(units = 50, return_sequences=True))\r\n",
        "model.add(Dropout(0.2))\r\n",
        "\r\n",
        "model.add(LSTM(units = 50, return_sequences=True))\r\n",
        "model.add(Dropout(0.2))\r\n",
        "\r\n",
        "model.add(LSTM(units = 50))\r\n",
        "model.add(Dropout(0.2))\r\n",
        "\r\n",
        "model.add(Dense(units=1))"
      ],
      "execution_count": 11,
      "outputs": []
    },
    {
      "cell_type": "code",
      "metadata": {
        "id": "W5RRjYB1BJNm"
      },
      "source": [
        "model.compile(optimizer='adam', loss='mean_squared_error')"
      ],
      "execution_count": 12,
      "outputs": []
    },
    {
      "cell_type": "code",
      "metadata": {
        "colab": {
          "base_uri": "https://localhost:8080/"
        },
        "id": "Y9JZvJA4BWvV",
        "outputId": "ab9179f8-8341-4041-f23d-e9aa86ce1419"
      },
      "source": [
        "model.fit(X_train[0:5416,:], y_train, epochs=40, batch_size=32)"
      ],
      "execution_count": 13,
      "outputs": [
        {
          "output_type": "stream",
          "text": [
            "Epoch 1/40\n",
            "85/85 [==============================] - 9s 108ms/step - loss: 0.0191\n",
            "Epoch 2/40\n",
            "85/85 [==============================] - 9s 109ms/step - loss: 0.0044\n",
            "Epoch 3/40\n",
            "85/85 [==============================] - 9s 111ms/step - loss: 0.0041\n",
            "Epoch 4/40\n",
            "85/85 [==============================] - 9s 111ms/step - loss: 0.0041\n",
            "Epoch 5/40\n",
            "85/85 [==============================] - 10s 115ms/step - loss: 0.0033\n",
            "Epoch 6/40\n",
            "85/85 [==============================] - 10s 113ms/step - loss: 0.0034\n",
            "Epoch 7/40\n",
            "85/85 [==============================] - 10s 114ms/step - loss: 0.0030\n",
            "Epoch 8/40\n",
            "85/85 [==============================] - 10s 113ms/step - loss: 0.0034\n",
            "Epoch 9/40\n",
            "85/85 [==============================] - 10s 112ms/step - loss: 0.0030\n",
            "Epoch 10/40\n",
            "85/85 [==============================] - 9s 111ms/step - loss: 0.0027\n",
            "Epoch 11/40\n",
            "85/85 [==============================] - 10s 112ms/step - loss: 0.0027\n",
            "Epoch 12/40\n",
            "85/85 [==============================] - 10s 113ms/step - loss: 0.0027\n",
            "Epoch 13/40\n",
            "85/85 [==============================] - 9s 111ms/step - loss: 0.0023\n",
            "Epoch 14/40\n",
            "85/85 [==============================] - 10s 112ms/step - loss: 0.0022\n",
            "Epoch 15/40\n",
            "85/85 [==============================] - 9s 111ms/step - loss: 0.0022\n",
            "Epoch 16/40\n",
            "85/85 [==============================] - 10s 113ms/step - loss: 0.0023\n",
            "Epoch 17/40\n",
            "85/85 [==============================] - 10s 113ms/step - loss: 0.0020\n",
            "Epoch 18/40\n",
            "85/85 [==============================] - 10s 113ms/step - loss: 0.0020\n",
            "Epoch 19/40\n",
            "85/85 [==============================] - 10s 113ms/step - loss: 0.0018\n",
            "Epoch 20/40\n",
            "85/85 [==============================] - 10s 113ms/step - loss: 0.0019\n",
            "Epoch 21/40\n",
            "85/85 [==============================] - 10s 112ms/step - loss: 0.0019\n",
            "Epoch 22/40\n",
            "85/85 [==============================] - 10s 114ms/step - loss: 0.0019\n",
            "Epoch 23/40\n",
            "85/85 [==============================] - 10s 113ms/step - loss: 0.0018\n",
            "Epoch 24/40\n",
            "85/85 [==============================] - 10s 113ms/step - loss: 0.0018\n",
            "Epoch 25/40\n",
            "85/85 [==============================] - 10s 113ms/step - loss: 0.0017\n",
            "Epoch 26/40\n",
            "85/85 [==============================] - 10s 114ms/step - loss: 0.0015\n",
            "Epoch 27/40\n",
            "85/85 [==============================] - 10s 113ms/step - loss: 0.0015\n",
            "Epoch 28/40\n",
            "85/85 [==============================] - 10s 114ms/step - loss: 0.0015\n",
            "Epoch 29/40\n",
            "85/85 [==============================] - 10s 118ms/step - loss: 0.0016\n",
            "Epoch 30/40\n",
            "85/85 [==============================] - 10s 119ms/step - loss: 0.0013\n",
            "Epoch 31/40\n",
            "85/85 [==============================] - 10s 115ms/step - loss: 0.0014\n",
            "Epoch 32/40\n",
            "85/85 [==============================] - 10s 114ms/step - loss: 0.0014\n",
            "Epoch 33/40\n",
            "85/85 [==============================] - 10s 114ms/step - loss: 0.0013\n",
            "Epoch 34/40\n",
            "85/85 [==============================] - 10s 114ms/step - loss: 0.0012\n",
            "Epoch 35/40\n",
            "85/85 [==============================] - 10s 115ms/step - loss: 0.0014\n",
            "Epoch 36/40\n",
            "85/85 [==============================] - 10s 116ms/step - loss: 0.0012\n",
            "Epoch 37/40\n",
            "85/85 [==============================] - 10s 115ms/step - loss: 0.0013\n",
            "Epoch 38/40\n",
            "85/85 [==============================] - 10s 114ms/step - loss: 0.0013\n",
            "Epoch 39/40\n",
            "85/85 [==============================] - 10s 115ms/step - loss: 0.0011\n",
            "Epoch 40/40\n",
            "85/85 [==============================] - 10s 114ms/step - loss: 0.0012\n"
          ],
          "name": "stdout"
        },
        {
          "output_type": "execute_result",
          "data": {
            "text/plain": [
              "<tensorflow.python.keras.callbacks.History at 0x7fba1328af60>"
            ]
          },
          "metadata": {
            "tags": []
          },
          "execution_count": 13
        }
      ]
    },
    {
      "cell_type": "code",
      "metadata": {
        "id": "sNcYlJZLBdZP"
      },
      "source": [
        "dataset_total = pd.concat((dataset[\"High\"][:'2016'], dataset['High']['2017':]), axis=0)\r\n",
        "input = dataset_total[len(dataset_total) - len(test_set) - 60:].values\r\n",
        "input = input.reshape(-1,1)\r\n",
        "inputs = sc.transform(input)"
      ],
      "execution_count": 14,
      "outputs": []
    },
    {
      "cell_type": "code",
      "metadata": {
        "id": "-Pvg_MQuGZaZ"
      },
      "source": [
        "X_test = []\r\n",
        "for i in range(60,311):\r\n",
        "    X_test.append(inputs[i-60:i,0])\r\n",
        "\r\n",
        "X_test = np.array(X_test)\r\n",
        "X_test = np.reshape(X_test, (X_test.shape[0],X_test.shape[1],1))\r\n",
        "\r\n",
        "predicted_stock_price = model.predict(X_test)\r\n",
        "predicted_stock_price = sc.inverse_transform(predicted_stock_price)"
      ],
      "execution_count": 15,
      "outputs": []
    },
    {
      "cell_type": "code",
      "metadata": {
        "colab": {
          "base_uri": "https://localhost:8080/",
          "height": 295
        },
        "id": "7J1usgQbGjSw",
        "outputId": "7703ef81-4132-4301-97ca-1051a274c635"
      },
      "source": [
        "plot_predictions(test_set,predicted_stock_price)"
      ],
      "execution_count": 16,
      "outputs": [
        {
          "output_type": "display_data",
          "data": {
            "image/png": "[encoded data removed]",
            "text/plain": [
              "<Figure size 432x288 with 1 Axes>"
            ]
          },
          "metadata": {
            "tags": [],
            "needs_background": "light"
          }
        }
      ]
    },
    {
      "cell_type": "code",
      "metadata": {
        "id": "XTXqwPPoHCGB"
      },
      "source": [
        ""
      ],
      "execution_count": 16,
      "outputs": []
    },
    {
      "cell_type": "code",
      "metadata": {
        "id": "gbQBoLsqXnpP"
      },
      "source": [
        ""
      ],
      "execution_count": null,
      "outputs": []
    },
    {
      "cell_type": "markdown",
      "metadata": {
        "id": "8i11PmvAXphO"
      },
      "source": [
        "GRU"
      ]
    },
    {
      "cell_type": "code",
      "metadata": {
        "id": "ntjJzRtWXqVW"
      },
      "source": [
        "modelGRU = Sequential()\r\n",
        "\r\n",
        "modelGRU.add(GRU(units=50, return_sequences=True, input_shape = (X_train.shape[1],1), \r\n",
        "                 activation='tanh'))\r\n",
        "modelGRU.add(Dropout(0.2))\r\n",
        "\r\n",
        "modelGRU.add(GRU(units=50, return_sequences=True, input_shape = (X_train.shape[1],1), \r\n",
        "                 activation='tanh'))\r\n",
        "modelGRU.add(Dropout(0.2))\r\n",
        "\r\n",
        "modelGRU.add(GRU(units=50, return_sequences=True, input_shape = (X_train.shape[1],1), \r\n",
        "                 activation='tanh'))\r\n",
        "modelGRU.add(Dropout(0.2))\r\n",
        "\r\n",
        "modelGRU.add(GRU(units=50, activation='tanh'))\r\n",
        "modelGRU.add(Dropout(0.2))\r\n",
        "\r\n",
        "modelGRU.add(Dense(units=1))"
      ],
      "execution_count": 17,
      "outputs": []
    },
    {
      "cell_type": "code",
      "metadata": {
        "id": "R5KV3NYBYczh"
      },
      "source": [
        "modelGRU.compile(optimizer='adam', loss='mean_squared_error')"
      ],
      "execution_count": 21,
      "outputs": []
    },
    {
      "cell_type": "code",
      "metadata": {
        "colab": {
          "base_uri": "https://localhost:8080/"
        },
        "id": "aMjMjAHbp5pD",
        "outputId": "d31823d1-76ce-42fe-8799-a39da2b5337f"
      },
      "source": [
        "modelGRU.fit(X_train,y_train,epochs=50,batch_size=128)"
      ],
      "execution_count": 22,
      "outputs": [
        {
          "output_type": "stream",
          "text": [
            "Epoch 1/50\n",
            "22/22 [==============================] - 4s 192ms/step - loss: 0.0558\n",
            "Epoch 2/50\n",
            "22/22 [==============================] - 4s 194ms/step - loss: 0.0089\n",
            "Epoch 3/50\n",
            "22/22 [==============================] - 4s 196ms/step - loss: 0.0050\n",
            "Epoch 4/50\n",
            "22/22 [==============================] - 4s 196ms/step - loss: 0.0046\n",
            "Epoch 5/50\n",
            "22/22 [==============================] - 4s 197ms/step - loss: 0.0044\n",
            "Epoch 6/50\n",
            "22/22 [==============================] - 4s 198ms/step - loss: 0.0039\n",
            "Epoch 7/50\n",
            "22/22 [==============================] - 4s 202ms/step - loss: 0.0038\n",
            "Epoch 8/50\n",
            "22/22 [==============================] - 4s 202ms/step - loss: 0.0034\n",
            "Epoch 9/50\n",
            "22/22 [==============================] - 4s 201ms/step - loss: 0.0034\n",
            "Epoch 10/50\n",
            "22/22 [==============================] - 4s 203ms/step - loss: 0.0033\n",
            "Epoch 11/50\n",
            "22/22 [==============================] - 4s 199ms/step - loss: 0.0031\n",
            "Epoch 12/50\n",
            "22/22 [==============================] - 4s 195ms/step - loss: 0.0031\n",
            "Epoch 13/50\n",
            "22/22 [==============================] - 4s 197ms/step - loss: 0.0032\n",
            "Epoch 14/50\n",
            "22/22 [==============================] - 4s 195ms/step - loss: 0.0030\n",
            "Epoch 15/50\n",
            "22/22 [==============================] - 4s 195ms/step - loss: 0.0027\n",
            "Epoch 16/50\n",
            "22/22 [==============================] - 4s 196ms/step - loss: 0.0026\n",
            "Epoch 17/50\n",
            "22/22 [==============================] - 4s 196ms/step - loss: 0.0025\n",
            "Epoch 18/50\n",
            "22/22 [==============================] - 4s 195ms/step - loss: 0.0025\n",
            "Epoch 19/50\n",
            "22/22 [==============================] - 4s 198ms/step - loss: 0.0023\n",
            "Epoch 20/50\n",
            "22/22 [==============================] - 4s 196ms/step - loss: 0.0027\n",
            "Epoch 21/50\n",
            "22/22 [==============================] - 4s 197ms/step - loss: 0.0025\n",
            "Epoch 22/50\n",
            "22/22 [==============================] - 4s 197ms/step - loss: 0.0023\n",
            "Epoch 23/50\n",
            "22/22 [==============================] - 4s 196ms/step - loss: 0.0022\n",
            "Epoch 24/50\n",
            "22/22 [==============================] - 4s 197ms/step - loss: 0.0022\n",
            "Epoch 25/50\n",
            "22/22 [==============================] - 4s 197ms/step - loss: 0.0023\n",
            "Epoch 26/50\n",
            "22/22 [==============================] - 4s 198ms/step - loss: 0.0022\n",
            "Epoch 27/50\n",
            "22/22 [==============================] - 4s 196ms/step - loss: 0.0023\n",
            "Epoch 28/50\n",
            "22/22 [==============================] - 4s 197ms/step - loss: 0.0022\n",
            "Epoch 29/50\n",
            "22/22 [==============================] - 4s 195ms/step - loss: 0.0022\n",
            "Epoch 30/50\n",
            "22/22 [==============================] - 4s 196ms/step - loss: 0.0021\n",
            "Epoch 31/50\n",
            "22/22 [==============================] - 4s 196ms/step - loss: 0.0022\n",
            "Epoch 32/50\n",
            "22/22 [==============================] - 4s 196ms/step - loss: 0.0021\n",
            "Epoch 33/50\n",
            "22/22 [==============================] - 4s 197ms/step - loss: 0.0022\n",
            "Epoch 34/50\n",
            "22/22 [==============================] - 4s 197ms/step - loss: 0.0021\n",
            "Epoch 35/50\n",
            "22/22 [==============================] - 4s 197ms/step - loss: 0.0019\n",
            "Epoch 36/50\n",
            "22/22 [==============================] - 4s 199ms/step - loss: 0.0019\n",
            "Epoch 37/50\n",
            "22/22 [==============================] - 4s 197ms/step - loss: 0.0019\n",
            "Epoch 38/50\n",
            "22/22 [==============================] - 4s 199ms/step - loss: 0.0019\n",
            "Epoch 39/50\n",
            "22/22 [==============================] - 4s 199ms/step - loss: 0.0019\n",
            "Epoch 40/50\n",
            "22/22 [==============================] - 4s 200ms/step - loss: 0.0020\n",
            "Epoch 41/50\n",
            "22/22 [==============================] - 4s 199ms/step - loss: 0.0019\n",
            "Epoch 42/50\n",
            "22/22 [==============================] - 4s 198ms/step - loss: 0.0019\n",
            "Epoch 43/50\n",
            "22/22 [==============================] - 4s 196ms/step - loss: 0.0019\n",
            "Epoch 44/50\n",
            "22/22 [==============================] - 4s 197ms/step - loss: 0.0019\n",
            "Epoch 45/50\n",
            "22/22 [==============================] - 4s 197ms/step - loss: 0.0018\n",
            "Epoch 46/50\n",
            "22/22 [==============================] - 4s 198ms/step - loss: 0.0020\n",
            "Epoch 47/50\n",
            "22/22 [==============================] - 4s 196ms/step - loss: 0.0019\n",
            "Epoch 48/50\n",
            "22/22 [==============================] - 4s 200ms/step - loss: 0.0018\n",
            "Epoch 49/50\n",
            "22/22 [==============================] - 4s 198ms/step - loss: 0.0018\n",
            "Epoch 50/50\n",
            "22/22 [==============================] - 4s 198ms/step - loss: 0.0018\n"
          ],
          "name": "stdout"
        },
        {
          "output_type": "execute_result",
          "data": {
            "text/plain": [
              "<tensorflow.python.keras.callbacks.History at 0x7fba07b2d588>"
            ]
          },
          "metadata": {
            "tags": []
          },
          "execution_count": 22
        }
      ]
    },
    {
      "cell_type": "code",
      "metadata": {
        "id": "VMFyJA8-qB7C"
      },
      "source": [
        "predicted_stock_price = modelGRU.predict(X_test)\r\n",
        "predicted_stock_price = sc.inverse_transform(predicted_stock_price)"
      ],
      "execution_count": 23,
      "outputs": []
    },
    {
      "cell_type": "code",
      "metadata": {
        "colab": {
          "base_uri": "https://localhost:8080/",
          "height": 295
        },
        "id": "t1Ffy3wyrpEP",
        "outputId": "5424c6ff-9f94-45a0-8047-ffd3fc5a87e6"
      },
      "source": [
        "plot_predictions(test_set, predicted_stock_price)"
      ],
      "execution_count": 24,
      "outputs": [
        {
          "output_type": "display_data",
          "data": {
            "image/png": "[encoded data removed]",
            "text/plain": [
              "<Figure size 432x288 with 1 Axes>"
            ]
          },
          "metadata": {
            "tags": [],
            "needs_background": "light"
          }
        }
      ]
    },
    {
      "cell_type": "code",
      "metadata": {
        "id": "OdyDOv5orv7Y"
      },
      "source": [
        ""
      ],
      "execution_count": null,
      "outputs": []
    }
  ]
}